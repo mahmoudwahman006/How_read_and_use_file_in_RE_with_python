{
 "cells": [
  {
   "cell_type": "code",
   "execution_count": 1,
   "id": "a1fbb1c3",
   "metadata": {
    "ExecuteTime": {
     "end_time": "2022-09-03T13:36:41.193591Z",
     "start_time": "2022-09-03T13:36:41.184578Z"
    }
   },
   "outputs": [],
   "source": [
    "class composition : \n",
    "    def __init__(self):\n",
    "        self.at=dict()\n",
    "        self.math=dict()\n",
    "        \n",
    "    def add_at(self,atname,atvalue):\n",
    "        self.at[atname] = atvalue\n",
    "        \n",
    "    def remove_at(self,atname):\n",
    "        del self.at[atname]\n",
    "        \n",
    "    def change_at(self):\n",
    "        atname = input(\"Enter old name of attribute: \")\n",
    "        del self.at[atname]\n",
    "        atname = input(\"Enter new name of attribute:\")\n",
    "        atvalue = input(\"Enter new value of new attribute: \")\n",
    "        self.at[atname]=atvalue\n",
    "        print(\"Done\")\n",
    "        \n",
    "    def print_at(self,atname):\n",
    "        print(self.at[atname])\n",
    "        \n",
    "    def print_all_at(self):\n",
    "        for i in self.at:\n",
    "            print( i ,\" = \", self.at[i])\n",
    "            \n",
    "    def add_math(self,mathname,mathod):\n",
    "        self.math[mathname]=mathod\n",
    "        \n",
    "    def call_math(self,mathname):\n",
    "        self.math[mathname]()\n",
    "        \n",
    "    def print_all_math(self):\n",
    "        for i in self.math:\n",
    "            print(i)\n",
    "    "
   ]
  },
  {
   "cell_type": "code",
   "execution_count": 2,
   "id": "edac1067",
   "metadata": {
    "ExecuteTime": {
     "end_time": "2022-09-03T13:36:43.395837Z",
     "start_time": "2022-09-03T13:36:43.386754Z"
    }
   },
   "outputs": [],
   "source": [
    "car=composition()"
   ]
  },
  {
   "cell_type": "code",
   "execution_count": 3,
   "id": "84a0f525",
   "metadata": {
    "ExecuteTime": {
     "end_time": "2022-09-03T13:38:33.160845Z",
     "start_time": "2022-09-03T13:38:33.155826Z"
    }
   },
   "outputs": [],
   "source": [
    "car.add_at(\"name\",\"ford\")\n",
    "car.add_at(\"kind\",\"sport\")\n",
    "car.add_at(\"year\",1970)\n",
    "car.add_at(\"owner_name\",\"wahman\")\n",
    "car.add_at(\"location\",\"assuit\")"
   ]
  },
  {
   "cell_type": "code",
   "execution_count": 4,
   "id": "277d5b36",
   "metadata": {
    "ExecuteTime": {
     "end_time": "2022-09-03T13:38:55.676324Z",
     "start_time": "2022-09-03T13:38:55.657666Z"
    }
   },
   "outputs": [
    {
     "name": "stdout",
     "output_type": "stream",
     "text": [
      "name  =  ford\n",
      "kind  =  sport\n",
      "year  =  1970\n",
      "owner_name  =  wahman\n",
      "location  =  assuit\n"
     ]
    }
   ],
   "source": [
    "car.print_all_at()"
   ]
  },
  {
   "cell_type": "code",
   "execution_count": 5,
   "id": "ce8977e6",
   "metadata": {
    "ExecuteTime": {
     "end_time": "2022-09-03T13:39:30.277595Z",
     "start_time": "2022-09-03T13:39:30.272609Z"
    }
   },
   "outputs": [],
   "source": [
    "car.remove_at(\"location\")"
   ]
  },
  {
   "cell_type": "code",
   "execution_count": 7,
   "id": "b4e36716",
   "metadata": {
    "ExecuteTime": {
     "end_time": "2022-09-03T13:39:44.081897Z",
     "start_time": "2022-09-03T13:39:44.072822Z"
    }
   },
   "outputs": [
    {
     "name": "stdout",
     "output_type": "stream",
     "text": [
      "name  =  ford\n",
      "kind  =  sport\n",
      "year  =  1970\n",
      "owner_name  =  wahman\n"
     ]
    }
   ],
   "source": [
    "car.print_all_at()"
   ]
  },
  {
   "cell_type": "code",
   "execution_count": 8,
   "id": "18fea6e4",
   "metadata": {
    "ExecuteTime": {
     "end_time": "2022-09-03T13:40:47.376014Z",
     "start_time": "2022-09-03T13:40:10.915747Z"
    }
   },
   "outputs": [
    {
     "name": "stdout",
     "output_type": "stream",
     "text": [
      "Enter old name of attribute: owner_name\n",
      "Enter new name of attribute:owner_name\n",
      "Enter new value of new attribute: homa\n",
      "Done\n"
     ]
    }
   ],
   "source": [
    "car.change_at()"
   ]
  },
  {
   "cell_type": "code",
   "execution_count": 20,
   "id": "fa59daef",
   "metadata": {
    "ExecuteTime": {
     "end_time": "2022-09-03T13:52:55.375185Z",
     "start_time": "2022-09-03T13:52:55.367123Z"
    }
   },
   "outputs": [
    {
     "name": "stdout",
     "output_type": "stream",
     "text": [
      "name  =  ford\n",
      "kind  =  sport\n",
      "year  =  1970\n",
      "owner_name  =  homa\n",
      "car_age  =  42\n"
     ]
    }
   ],
   "source": [
    "car.print_all_at()"
   ]
  },
  {
   "cell_type": "code",
   "execution_count": 13,
   "id": "244aa5ba",
   "metadata": {
    "ExecuteTime": {
     "end_time": "2022-09-03T13:50:41.766566Z",
     "start_time": "2022-09-03T13:50:41.757421Z"
    }
   },
   "outputs": [],
   "source": [
    "def car_age():\n",
    "    x = int(input(\"Enter the year this car made : \"))\n",
    "    z=2022-x\n",
    "    print(z)\n",
    "    car.add_at(\"car_age\",z)"
   ]
  },
  {
   "cell_type": "code",
   "execution_count": 14,
   "id": "da23a098",
   "metadata": {
    "ExecuteTime": {
     "end_time": "2022-09-03T13:50:44.705782Z",
     "start_time": "2022-09-03T13:50:44.696370Z"
    }
   },
   "outputs": [],
   "source": [
    "car.add_math(\"car_age\",car_age)"
   ]
  },
  {
   "cell_type": "code",
   "execution_count": 19,
   "id": "d76a7f7d",
   "metadata": {
    "ExecuteTime": {
     "end_time": "2022-09-03T13:52:51.554276Z",
     "start_time": "2022-09-03T13:52:34.672574Z"
    }
   },
   "outputs": [
    {
     "name": "stdout",
     "output_type": "stream",
     "text": [
      "Enter the year this car made : 1980\n",
      "42\n"
     ]
    }
   ],
   "source": [
    "car_age()"
   ]
  },
  {
   "cell_type": "code",
   "execution_count": 17,
   "id": "e72203e9",
   "metadata": {
    "ExecuteTime": {
     "end_time": "2022-09-03T13:52:02.722825Z",
     "start_time": "2022-09-03T13:52:02.713888Z"
    }
   },
   "outputs": [
    {
     "name": "stdout",
     "output_type": "stream",
     "text": [
      "car_age\n"
     ]
    }
   ],
   "source": [
    "car.print_all_math()"
   ]
  },
  {
   "cell_type": "code",
   "execution_count": null,
   "id": "022a2c7e",
   "metadata": {},
   "outputs": [],
   "source": []
  }
 ],
 "metadata": {
  "hide_input": false,
  "kernelspec": {
   "display_name": "Python 3 (ipykernel)",
   "language": "python",
   "name": "python3"
  },
  "language_info": {
   "codemirror_mode": {
    "name": "ipython",
    "version": 3
   },
   "file_extension": ".py",
   "mimetype": "text/x-python",
   "name": "python",
   "nbconvert_exporter": "python",
   "pygments_lexer": "ipython3",
   "version": "3.9.12"
  },
  "latex_envs": {
   "LaTeX_envs_menu_present": true,
   "autoclose": true,
   "autocomplete": true,
   "bibliofile": "biblio.bib",
   "cite_by": "apalike",
   "current_citInitial": 1,
   "eqLabelWithNumbers": true,
   "eqNumInitial": 1,
   "hotkeys": {
    "equation": "Ctrl-E",
    "itemize": "Ctrl-I"
   },
   "labels_anchors": false,
   "latex_user_defs": false,
   "report_style_numbering": false,
   "user_envs_cfg": false
  }
 },
 "nbformat": 4,
 "nbformat_minor": 5
}
