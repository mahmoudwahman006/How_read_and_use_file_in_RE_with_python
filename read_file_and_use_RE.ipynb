{
 "cells": [
  {
   "cell_type": "code",
   "execution_count": 1,
   "id": "5a36d0fe",
   "metadata": {
    "ExecuteTime": {
     "end_time": "2022-09-02T18:16:49.685918Z",
     "start_time": "2022-09-02T18:16:49.660591Z"
    }
   },
   "outputs": [
    {
     "name": "stdout",
     "output_type": "stream",
     "text": [
      "List of names : ['Mahmoud mohamed ahmed', 'Ahmed said ahmed', 'Abdallah mahfouz aid', 'Mohamed aid salh', 'mahmoud halim saad'] \n",
      "\n",
      "List of phone numbers : ['01225647952', '01245789630', '01178523690', '01245789651', '01136479520'] \n",
      "\n",
      "List of mails : ['mahmoudwahman006@gmail.com', 'ahmedsaid1211@gmail.com', 'abdallahmahfo1255@gmail.com', 'mohamedaid5454@gmail.com', 'mahmoudhalim2002@gmail.com'] \n",
      "\n"
     ]
    }
   ],
   "source": [
    "import re\n",
    "list_name=[ ]\n",
    "list_phone_number=[]\n",
    "list_mail=[]\n",
    "list_file = []\n",
    "string = ' '\n",
    "with open(r\"C:\\\\Users\\\\DELL G3 15\\\\Desktop\\\\task.txt\") as x:\n",
    "    for line in x.readlines():\n",
    "        list_file.append(line)\n",
    "for x in list_file : \n",
    "    string += ' ' + x\n",
    "names = re.compile(\"[a-zA-z]+\\s[a-zA-z]+\\s[a-zA-z]+\")\n",
    "matches = names.finditer(string)\n",
    "for nam in matches :\n",
    "    list_name.append(string[nam.span()[0]:nam.span()[1]])\n",
    "print(\"List of names :\",list_name,\"\\n\")\n",
    "phon_numbers = re.compile(r\"(010|011|012)\\d{8}\")\n",
    "matchs = phon_numbers.finditer(string)\n",
    "for phone in matchs :\n",
    "    list_phone_number.append(string[phone.span()[0]:phone.span()[1]])\n",
    "print(\"List of phone numbers :\",list_phone_number,\"\\n\")\n",
    "mails = re.compile(\"\\w+@\\w+\\.[a-zA-Z]{3}\")\n",
    "mtchs = mails.finditer(string)\n",
    "for mtch in mtchs:\n",
    "    list_mail.append(string[mtch.span()[0]:mtch.span()[1]])\n",
    "print(\"List of mails :\",list_mail,\"\\n\")    "
   ]
  },
  {
   "cell_type": "code",
   "execution_count": null,
   "id": "22e65080",
   "metadata": {},
   "outputs": [],
   "source": []
  }
 ],
 "metadata": {
  "hide_input": false,
  "kernelspec": {
   "display_name": "Python 3 (ipykernel)",
   "language": "python",
   "name": "python3"
  },
  "language_info": {
   "codemirror_mode": {
    "name": "ipython",
    "version": 3
   },
   "file_extension": ".py",
   "mimetype": "text/x-python",
   "name": "python",
   "nbconvert_exporter": "python",
   "pygments_lexer": "ipython3",
   "version": "3.9.12"
  },
  "latex_envs": {
   "LaTeX_envs_menu_present": true,
   "autoclose": true,
   "autocomplete": true,
   "bibliofile": "biblio.bib",
   "cite_by": "apalike",
   "current_citInitial": 1,
   "eqLabelWithNumbers": true,
   "eqNumInitial": 1,
   "hotkeys": {
    "equation": "Ctrl-E",
    "itemize": "Ctrl-I"
   },
   "labels_anchors": false,
   "latex_user_defs": false,
   "report_style_numbering": false,
   "user_envs_cfg": false
  }
 },
 "nbformat": 4,
 "nbformat_minor": 5
}
